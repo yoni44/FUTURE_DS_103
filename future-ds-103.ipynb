{
 "cells": [
  {
   "cell_type": "code",
   "execution_count": 1,
   "id": "cab04136",
   "metadata": {
    "_cell_guid": "b1076dfc-b9ad-4769-8c92-a6c4dae69d19",
    "_uuid": "8f2839f25d086af736a60e9eeb907d3b93b6e0e5",
    "execution": {
     "iopub.execute_input": "2024-11-05T19:56:44.121474Z",
     "iopub.status.busy": "2024-11-05T19:56:44.120999Z",
     "iopub.status.idle": "2024-11-05T19:56:45.253600Z",
     "shell.execute_reply": "2024-11-05T19:56:45.252277Z"
    },
    "papermill": {
     "duration": 1.152567,
     "end_time": "2024-11-05T19:56:45.256469",
     "exception": false,
     "start_time": "2024-11-05T19:56:44.103902",
     "status": "completed"
    },
    "tags": []
   },
   "outputs": [
    {
     "name": "stdout",
     "output_type": "stream",
     "text": [
      "/kaggle/input/titanic/train.csv\n",
      "/kaggle/input/titanic/test.csv\n",
      "/kaggle/input/titanic/gender_submission.csv\n"
     ]
    }
   ],
   "source": [
    "# This Python 3 environment comes with many helpful analytics libraries installed\n",
    "# It is defined by the kaggle/python Docker image: https://github.com/kaggle/docker-python\n",
    "# For example, here's several helpful packages to load\n",
    "\n",
    "import numpy as np # linear algebra\n",
    "import pandas as pd # data processing, CSV file I/O (e.g. pd.read_csv)\n",
    "\n",
    "# Input data files are available in the read-only \"../input/\" directory\n",
    "# For example, running this (by clicking run or pressing Shift+Enter) will list all files under the input directory\n",
    "\n",
    "import os\n",
    "for dirname, _, filenames in os.walk('/kaggle/input'):\n",
    "    for filename in filenames:\n",
    "        print(os.path.join(dirname, filename))\n",
    "\n",
    "# You can write up to 20GB to the current directory (/kaggle/working/) that gets preserved as output when you create a version using \"Save & Run All\" \n",
    "# You can also write temporary files to /kaggle/temp/, but they won't be saved outside of the current session"
   ]
  },
  {
   "cell_type": "markdown",
   "id": "80e41d9e",
   "metadata": {
    "papermill": {
     "duration": 0.01566,
     "end_time": "2024-11-05T19:56:45.287127",
     "exception": false,
     "start_time": "2024-11-05T19:56:45.271467",
     "status": "completed"
    },
    "tags": []
   },
   "source": [
    "## Import Modules"
   ]
  },
  {
   "cell_type": "code",
   "execution_count": 2,
   "id": "dd7e76a5",
   "metadata": {
    "execution": {
     "iopub.execute_input": "2024-11-05T19:56:45.319280Z",
     "iopub.status.busy": "2024-11-05T19:56:45.318493Z",
     "iopub.status.idle": "2024-11-05T19:56:47.442108Z",
     "shell.execute_reply": "2024-11-05T19:56:47.440417Z"
    },
    "papermill": {
     "duration": 2.143838,
     "end_time": "2024-11-05T19:56:47.445520",
     "exception": false,
     "start_time": "2024-11-05T19:56:45.301682",
     "status": "completed"
    },
    "tags": []
   },
   "outputs": [],
   "source": [
    "import pandas as pd\n",
    "import numpy as np\n",
    "import seaborn as sns\n",
    "import matplotlib.pyplot as plt\n",
    "%matplotlib inline"
   ]
  },
  {
   "cell_type": "markdown",
   "id": "6754b94c",
   "metadata": {
    "papermill": {
     "duration": 0.014803,
     "end_time": "2024-11-05T19:56:47.475317",
     "exception": false,
     "start_time": "2024-11-05T19:56:47.460514",
     "status": "completed"
    },
    "tags": []
   },
   "source": [
    "## Loading the dataset"
   ]
  },
  {
   "cell_type": "code",
   "execution_count": 3,
   "id": "a4b607a9",
   "metadata": {
    "execution": {
     "iopub.execute_input": "2024-11-05T19:56:47.507967Z",
     "iopub.status.busy": "2024-11-05T19:56:47.507314Z",
     "iopub.status.idle": "2024-11-05T19:56:47.570002Z",
     "shell.execute_reply": "2024-11-05T19:56:47.568534Z"
    },
    "papermill": {
     "duration": 0.082043,
     "end_time": "2024-11-05T19:56:47.573163",
     "exception": false,
     "start_time": "2024-11-05T19:56:47.491120",
     "status": "completed"
    },
    "tags": []
   },
   "outputs": [
    {
     "data": {
      "text/html": [
       "<div>\n",
       "<style scoped>\n",
       "    .dataframe tbody tr th:only-of-type {\n",
       "        vertical-align: middle;\n",
       "    }\n",
       "\n",
       "    .dataframe tbody tr th {\n",
       "        vertical-align: top;\n",
       "    }\n",
       "\n",
       "    .dataframe thead th {\n",
       "        text-align: right;\n",
       "    }\n",
       "</style>\n",
       "<table border=\"1\" class=\"dataframe\">\n",
       "  <thead>\n",
       "    <tr style=\"text-align: right;\">\n",
       "      <th></th>\n",
       "      <th>PassengerId</th>\n",
       "      <th>Survived</th>\n",
       "      <th>Pclass</th>\n",
       "      <th>Name</th>\n",
       "      <th>Sex</th>\n",
       "      <th>Age</th>\n",
       "      <th>SibSp</th>\n",
       "      <th>Parch</th>\n",
       "      <th>Ticket</th>\n",
       "      <th>Fare</th>\n",
       "      <th>Cabin</th>\n",
       "      <th>Embarked</th>\n",
       "    </tr>\n",
       "  </thead>\n",
       "  <tbody>\n",
       "    <tr>\n",
       "      <th>0</th>\n",
       "      <td>1</td>\n",
       "      <td>0</td>\n",
       "      <td>3</td>\n",
       "      <td>Braund, Mr. Owen Harris</td>\n",
       "      <td>male</td>\n",
       "      <td>22.0</td>\n",
       "      <td>1</td>\n",
       "      <td>0</td>\n",
       "      <td>A/5 21171</td>\n",
       "      <td>7.2500</td>\n",
       "      <td>NaN</td>\n",
       "      <td>S</td>\n",
       "    </tr>\n",
       "    <tr>\n",
       "      <th>1</th>\n",
       "      <td>2</td>\n",
       "      <td>1</td>\n",
       "      <td>1</td>\n",
       "      <td>Cumings, Mrs. John Bradley (Florence Briggs Th...</td>\n",
       "      <td>female</td>\n",
       "      <td>38.0</td>\n",
       "      <td>1</td>\n",
       "      <td>0</td>\n",
       "      <td>PC 17599</td>\n",
       "      <td>71.2833</td>\n",
       "      <td>C85</td>\n",
       "      <td>C</td>\n",
       "    </tr>\n",
       "    <tr>\n",
       "      <th>2</th>\n",
       "      <td>3</td>\n",
       "      <td>1</td>\n",
       "      <td>3</td>\n",
       "      <td>Heikkinen, Miss. Laina</td>\n",
       "      <td>female</td>\n",
       "      <td>26.0</td>\n",
       "      <td>0</td>\n",
       "      <td>0</td>\n",
       "      <td>STON/O2. 3101282</td>\n",
       "      <td>7.9250</td>\n",
       "      <td>NaN</td>\n",
       "      <td>S</td>\n",
       "    </tr>\n",
       "    <tr>\n",
       "      <th>3</th>\n",
       "      <td>4</td>\n",
       "      <td>1</td>\n",
       "      <td>1</td>\n",
       "      <td>Futrelle, Mrs. Jacques Heath (Lily May Peel)</td>\n",
       "      <td>female</td>\n",
       "      <td>35.0</td>\n",
       "      <td>1</td>\n",
       "      <td>0</td>\n",
       "      <td>113803</td>\n",
       "      <td>53.1000</td>\n",
       "      <td>C123</td>\n",
       "      <td>S</td>\n",
       "    </tr>\n",
       "    <tr>\n",
       "      <th>4</th>\n",
       "      <td>5</td>\n",
       "      <td>0</td>\n",
       "      <td>3</td>\n",
       "      <td>Allen, Mr. William Henry</td>\n",
       "      <td>male</td>\n",
       "      <td>35.0</td>\n",
       "      <td>0</td>\n",
       "      <td>0</td>\n",
       "      <td>373450</td>\n",
       "      <td>8.0500</td>\n",
       "      <td>NaN</td>\n",
       "      <td>S</td>\n",
       "    </tr>\n",
       "  </tbody>\n",
       "</table>\n",
       "</div>"
      ],
      "text/plain": [
       "   PassengerId  Survived  Pclass  \\\n",
       "0            1         0       3   \n",
       "1            2         1       1   \n",
       "2            3         1       3   \n",
       "3            4         1       1   \n",
       "4            5         0       3   \n",
       "\n",
       "                                                Name     Sex   Age  SibSp  \\\n",
       "0                            Braund, Mr. Owen Harris    male  22.0      1   \n",
       "1  Cumings, Mrs. John Bradley (Florence Briggs Th...  female  38.0      1   \n",
       "2                             Heikkinen, Miss. Laina  female  26.0      0   \n",
       "3       Futrelle, Mrs. Jacques Heath (Lily May Peel)  female  35.0      1   \n",
       "4                           Allen, Mr. William Henry    male  35.0      0   \n",
       "\n",
       "   Parch            Ticket     Fare Cabin Embarked  \n",
       "0      0         A/5 21171   7.2500   NaN        S  \n",
       "1      0          PC 17599  71.2833   C85        C  \n",
       "2      0  STON/O2. 3101282   7.9250   NaN        S  \n",
       "3      0            113803  53.1000  C123        S  \n",
       "4      0            373450   8.0500   NaN        S  "
      ]
     },
     "execution_count": 3,
     "metadata": {},
     "output_type": "execute_result"
    }
   ],
   "source": [
    "# Load the dataset\n",
    "train = pd.read_csv('/kaggle/input/titanic/train.csv')  # Adjust path if necessary\n",
    "test = pd.read_csv('/kaggle/input/titanic/test.csv')\n",
    "train.head()\n"
   ]
  },
  {
   "cell_type": "code",
   "execution_count": 4,
   "id": "52c88026",
   "metadata": {
    "execution": {
     "iopub.execute_input": "2024-11-05T19:56:47.607675Z",
     "iopub.status.busy": "2024-11-05T19:56:47.607230Z",
     "iopub.status.idle": "2024-11-05T19:56:47.651910Z",
     "shell.execute_reply": "2024-11-05T19:56:47.649837Z"
    },
    "papermill": {
     "duration": 0.066528,
     "end_time": "2024-11-05T19:56:47.655282",
     "exception": false,
     "start_time": "2024-11-05T19:56:47.588754",
     "status": "completed"
    },
    "tags": []
   },
   "outputs": [
    {
     "data": {
      "text/html": [
       "<div>\n",
       "<style scoped>\n",
       "    .dataframe tbody tr th:only-of-type {\n",
       "        vertical-align: middle;\n",
       "    }\n",
       "\n",
       "    .dataframe tbody tr th {\n",
       "        vertical-align: top;\n",
       "    }\n",
       "\n",
       "    .dataframe thead th {\n",
       "        text-align: right;\n",
       "    }\n",
       "</style>\n",
       "<table border=\"1\" class=\"dataframe\">\n",
       "  <thead>\n",
       "    <tr style=\"text-align: right;\">\n",
       "      <th></th>\n",
       "      <th>PassengerId</th>\n",
       "      <th>Survived</th>\n",
       "      <th>Pclass</th>\n",
       "      <th>Age</th>\n",
       "      <th>SibSp</th>\n",
       "      <th>Parch</th>\n",
       "      <th>Fare</th>\n",
       "    </tr>\n",
       "  </thead>\n",
       "  <tbody>\n",
       "    <tr>\n",
       "      <th>count</th>\n",
       "      <td>891.000000</td>\n",
       "      <td>891.000000</td>\n",
       "      <td>891.000000</td>\n",
       "      <td>714.000000</td>\n",
       "      <td>891.000000</td>\n",
       "      <td>891.000000</td>\n",
       "      <td>891.000000</td>\n",
       "    </tr>\n",
       "    <tr>\n",
       "      <th>mean</th>\n",
       "      <td>446.000000</td>\n",
       "      <td>0.383838</td>\n",
       "      <td>2.308642</td>\n",
       "      <td>29.699118</td>\n",
       "      <td>0.523008</td>\n",
       "      <td>0.381594</td>\n",
       "      <td>32.204208</td>\n",
       "    </tr>\n",
       "    <tr>\n",
       "      <th>std</th>\n",
       "      <td>257.353842</td>\n",
       "      <td>0.486592</td>\n",
       "      <td>0.836071</td>\n",
       "      <td>14.526497</td>\n",
       "      <td>1.102743</td>\n",
       "      <td>0.806057</td>\n",
       "      <td>49.693429</td>\n",
       "    </tr>\n",
       "    <tr>\n",
       "      <th>min</th>\n",
       "      <td>1.000000</td>\n",
       "      <td>0.000000</td>\n",
       "      <td>1.000000</td>\n",
       "      <td>0.420000</td>\n",
       "      <td>0.000000</td>\n",
       "      <td>0.000000</td>\n",
       "      <td>0.000000</td>\n",
       "    </tr>\n",
       "    <tr>\n",
       "      <th>25%</th>\n",
       "      <td>223.500000</td>\n",
       "      <td>0.000000</td>\n",
       "      <td>2.000000</td>\n",
       "      <td>20.125000</td>\n",
       "      <td>0.000000</td>\n",
       "      <td>0.000000</td>\n",
       "      <td>7.910400</td>\n",
       "    </tr>\n",
       "    <tr>\n",
       "      <th>50%</th>\n",
       "      <td>446.000000</td>\n",
       "      <td>0.000000</td>\n",
       "      <td>3.000000</td>\n",
       "      <td>28.000000</td>\n",
       "      <td>0.000000</td>\n",
       "      <td>0.000000</td>\n",
       "      <td>14.454200</td>\n",
       "    </tr>\n",
       "    <tr>\n",
       "      <th>75%</th>\n",
       "      <td>668.500000</td>\n",
       "      <td>1.000000</td>\n",
       "      <td>3.000000</td>\n",
       "      <td>38.000000</td>\n",
       "      <td>1.000000</td>\n",
       "      <td>0.000000</td>\n",
       "      <td>31.000000</td>\n",
       "    </tr>\n",
       "    <tr>\n",
       "      <th>max</th>\n",
       "      <td>891.000000</td>\n",
       "      <td>1.000000</td>\n",
       "      <td>3.000000</td>\n",
       "      <td>80.000000</td>\n",
       "      <td>8.000000</td>\n",
       "      <td>6.000000</td>\n",
       "      <td>512.329200</td>\n",
       "    </tr>\n",
       "  </tbody>\n",
       "</table>\n",
       "</div>"
      ],
      "text/plain": [
       "       PassengerId    Survived      Pclass         Age       SibSp  \\\n",
       "count   891.000000  891.000000  891.000000  714.000000  891.000000   \n",
       "mean    446.000000    0.383838    2.308642   29.699118    0.523008   \n",
       "std     257.353842    0.486592    0.836071   14.526497    1.102743   \n",
       "min       1.000000    0.000000    1.000000    0.420000    0.000000   \n",
       "25%     223.500000    0.000000    2.000000   20.125000    0.000000   \n",
       "50%     446.000000    0.000000    3.000000   28.000000    0.000000   \n",
       "75%     668.500000    1.000000    3.000000   38.000000    1.000000   \n",
       "max     891.000000    1.000000    3.000000   80.000000    8.000000   \n",
       "\n",
       "            Parch        Fare  \n",
       "count  891.000000  891.000000  \n",
       "mean     0.381594   32.204208  \n",
       "std      0.806057   49.693429  \n",
       "min      0.000000    0.000000  \n",
       "25%      0.000000    7.910400  \n",
       "50%      0.000000   14.454200  \n",
       "75%      0.000000   31.000000  \n",
       "max      6.000000  512.329200  "
      ]
     },
     "execution_count": 4,
     "metadata": {},
     "output_type": "execute_result"
    }
   ],
   "source": [
    "## Statistical info\n",
    "train.describe()"
   ]
  },
  {
   "cell_type": "code",
   "execution_count": 5,
   "id": "6a04341c",
   "metadata": {
    "execution": {
     "iopub.execute_input": "2024-11-05T19:56:47.688344Z",
     "iopub.status.busy": "2024-11-05T19:56:47.687712Z",
     "iopub.status.idle": "2024-11-05T19:56:47.721879Z",
     "shell.execute_reply": "2024-11-05T19:56:47.719319Z"
    },
    "papermill": {
     "duration": 0.05583,
     "end_time": "2024-11-05T19:56:47.726411",
     "exception": false,
     "start_time": "2024-11-05T19:56:47.670581",
     "status": "completed"
    },
    "tags": []
   },
   "outputs": [
    {
     "name": "stdout",
     "output_type": "stream",
     "text": [
      "<class 'pandas.core.frame.DataFrame'>\n",
      "RangeIndex: 891 entries, 0 to 890\n",
      "Data columns (total 12 columns):\n",
      " #   Column       Non-Null Count  Dtype  \n",
      "---  ------       --------------  -----  \n",
      " 0   PassengerId  891 non-null    int64  \n",
      " 1   Survived     891 non-null    int64  \n",
      " 2   Pclass       891 non-null    int64  \n",
      " 3   Name         891 non-null    object \n",
      " 4   Sex          891 non-null    object \n",
      " 5   Age          714 non-null    float64\n",
      " 6   SibSp        891 non-null    int64  \n",
      " 7   Parch        891 non-null    int64  \n",
      " 8   Ticket       891 non-null    object \n",
      " 9   Fare         891 non-null    float64\n",
      " 10  Cabin        204 non-null    object \n",
      " 11  Embarked     889 non-null    object \n",
      "dtypes: float64(2), int64(5), object(5)\n",
      "memory usage: 83.7+ KB\n"
     ]
    }
   ],
   "source": [
    "## data type info\n",
    "train.info()"
   ]
  },
  {
   "cell_type": "markdown",
   "id": "d5afdc22",
   "metadata": {
    "papermill": {
     "duration": 0.015384,
     "end_time": "2024-11-05T19:56:47.758985",
     "exception": false,
     "start_time": "2024-11-05T19:56:47.743601",
     "status": "completed"
    },
    "tags": []
   },
   "source": [
    "**Exploratory Data Analysis**\n",
    "let us begin by checking the missing data!"
   ]
  },
  {
   "cell_type": "code",
   "execution_count": 6,
   "id": "7c646709",
   "metadata": {
    "execution": {
     "iopub.execute_input": "2024-11-05T19:56:47.793937Z",
     "iopub.status.busy": "2024-11-05T19:56:47.793510Z",
     "iopub.status.idle": "2024-11-05T19:56:47.823131Z",
     "shell.execute_reply": "2024-11-05T19:56:47.821725Z"
    },
    "papermill": {
     "duration": 0.050952,
     "end_time": "2024-11-05T19:56:47.827015",
     "exception": false,
     "start_time": "2024-11-05T19:56:47.776063",
     "status": "completed"
    },
    "tags": []
   },
   "outputs": [
    {
     "data": {
      "text/html": [
       "<div>\n",
       "<style scoped>\n",
       "    .dataframe tbody tr th:only-of-type {\n",
       "        vertical-align: middle;\n",
       "    }\n",
       "\n",
       "    .dataframe tbody tr th {\n",
       "        vertical-align: top;\n",
       "    }\n",
       "\n",
       "    .dataframe thead th {\n",
       "        text-align: right;\n",
       "    }\n",
       "</style>\n",
       "<table border=\"1\" class=\"dataframe\">\n",
       "  <thead>\n",
       "    <tr style=\"text-align: right;\">\n",
       "      <th></th>\n",
       "      <th>PassengerId</th>\n",
       "      <th>Survived</th>\n",
       "      <th>Pclass</th>\n",
       "      <th>Name</th>\n",
       "      <th>Sex</th>\n",
       "      <th>Age</th>\n",
       "      <th>SibSp</th>\n",
       "      <th>Parch</th>\n",
       "      <th>Ticket</th>\n",
       "      <th>Fare</th>\n",
       "      <th>Cabin</th>\n",
       "      <th>Embarked</th>\n",
       "    </tr>\n",
       "  </thead>\n",
       "  <tbody>\n",
       "    <tr>\n",
       "      <th>0</th>\n",
       "      <td>False</td>\n",
       "      <td>False</td>\n",
       "      <td>False</td>\n",
       "      <td>False</td>\n",
       "      <td>False</td>\n",
       "      <td>False</td>\n",
       "      <td>False</td>\n",
       "      <td>False</td>\n",
       "      <td>False</td>\n",
       "      <td>False</td>\n",
       "      <td>True</td>\n",
       "      <td>False</td>\n",
       "    </tr>\n",
       "    <tr>\n",
       "      <th>1</th>\n",
       "      <td>False</td>\n",
       "      <td>False</td>\n",
       "      <td>False</td>\n",
       "      <td>False</td>\n",
       "      <td>False</td>\n",
       "      <td>False</td>\n",
       "      <td>False</td>\n",
       "      <td>False</td>\n",
       "      <td>False</td>\n",
       "      <td>False</td>\n",
       "      <td>False</td>\n",
       "      <td>False</td>\n",
       "    </tr>\n",
       "    <tr>\n",
       "      <th>2</th>\n",
       "      <td>False</td>\n",
       "      <td>False</td>\n",
       "      <td>False</td>\n",
       "      <td>False</td>\n",
       "      <td>False</td>\n",
       "      <td>False</td>\n",
       "      <td>False</td>\n",
       "      <td>False</td>\n",
       "      <td>False</td>\n",
       "      <td>False</td>\n",
       "      <td>True</td>\n",
       "      <td>False</td>\n",
       "    </tr>\n",
       "    <tr>\n",
       "      <th>3</th>\n",
       "      <td>False</td>\n",
       "      <td>False</td>\n",
       "      <td>False</td>\n",
       "      <td>False</td>\n",
       "      <td>False</td>\n",
       "      <td>False</td>\n",
       "      <td>False</td>\n",
       "      <td>False</td>\n",
       "      <td>False</td>\n",
       "      <td>False</td>\n",
       "      <td>False</td>\n",
       "      <td>False</td>\n",
       "    </tr>\n",
       "    <tr>\n",
       "      <th>4</th>\n",
       "      <td>False</td>\n",
       "      <td>False</td>\n",
       "      <td>False</td>\n",
       "      <td>False</td>\n",
       "      <td>False</td>\n",
       "      <td>False</td>\n",
       "      <td>False</td>\n",
       "      <td>False</td>\n",
       "      <td>False</td>\n",
       "      <td>False</td>\n",
       "      <td>True</td>\n",
       "      <td>False</td>\n",
       "    </tr>\n",
       "    <tr>\n",
       "      <th>...</th>\n",
       "      <td>...</td>\n",
       "      <td>...</td>\n",
       "      <td>...</td>\n",
       "      <td>...</td>\n",
       "      <td>...</td>\n",
       "      <td>...</td>\n",
       "      <td>...</td>\n",
       "      <td>...</td>\n",
       "      <td>...</td>\n",
       "      <td>...</td>\n",
       "      <td>...</td>\n",
       "      <td>...</td>\n",
       "    </tr>\n",
       "    <tr>\n",
       "      <th>886</th>\n",
       "      <td>False</td>\n",
       "      <td>False</td>\n",
       "      <td>False</td>\n",
       "      <td>False</td>\n",
       "      <td>False</td>\n",
       "      <td>False</td>\n",
       "      <td>False</td>\n",
       "      <td>False</td>\n",
       "      <td>False</td>\n",
       "      <td>False</td>\n",
       "      <td>True</td>\n",
       "      <td>False</td>\n",
       "    </tr>\n",
       "    <tr>\n",
       "      <th>887</th>\n",
       "      <td>False</td>\n",
       "      <td>False</td>\n",
       "      <td>False</td>\n",
       "      <td>False</td>\n",
       "      <td>False</td>\n",
       "      <td>False</td>\n",
       "      <td>False</td>\n",
       "      <td>False</td>\n",
       "      <td>False</td>\n",
       "      <td>False</td>\n",
       "      <td>False</td>\n",
       "      <td>False</td>\n",
       "    </tr>\n",
       "    <tr>\n",
       "      <th>888</th>\n",
       "      <td>False</td>\n",
       "      <td>False</td>\n",
       "      <td>False</td>\n",
       "      <td>False</td>\n",
       "      <td>False</td>\n",
       "      <td>True</td>\n",
       "      <td>False</td>\n",
       "      <td>False</td>\n",
       "      <td>False</td>\n",
       "      <td>False</td>\n",
       "      <td>True</td>\n",
       "      <td>False</td>\n",
       "    </tr>\n",
       "    <tr>\n",
       "      <th>889</th>\n",
       "      <td>False</td>\n",
       "      <td>False</td>\n",
       "      <td>False</td>\n",
       "      <td>False</td>\n",
       "      <td>False</td>\n",
       "      <td>False</td>\n",
       "      <td>False</td>\n",
       "      <td>False</td>\n",
       "      <td>False</td>\n",
       "      <td>False</td>\n",
       "      <td>False</td>\n",
       "      <td>False</td>\n",
       "    </tr>\n",
       "    <tr>\n",
       "      <th>890</th>\n",
       "      <td>False</td>\n",
       "      <td>False</td>\n",
       "      <td>False</td>\n",
       "      <td>False</td>\n",
       "      <td>False</td>\n",
       "      <td>False</td>\n",
       "      <td>False</td>\n",
       "      <td>False</td>\n",
       "      <td>False</td>\n",
       "      <td>False</td>\n",
       "      <td>True</td>\n",
       "      <td>False</td>\n",
       "    </tr>\n",
       "  </tbody>\n",
       "</table>\n",
       "<p>891 rows × 12 columns</p>\n",
       "</div>"
      ],
      "text/plain": [
       "     PassengerId  Survived  Pclass   Name    Sex    Age  SibSp  Parch  Ticket  \\\n",
       "0          False     False   False  False  False  False  False  False   False   \n",
       "1          False     False   False  False  False  False  False  False   False   \n",
       "2          False     False   False  False  False  False  False  False   False   \n",
       "3          False     False   False  False  False  False  False  False   False   \n",
       "4          False     False   False  False  False  False  False  False   False   \n",
       "..           ...       ...     ...    ...    ...    ...    ...    ...     ...   \n",
       "886        False     False   False  False  False  False  False  False   False   \n",
       "887        False     False   False  False  False  False  False  False   False   \n",
       "888        False     False   False  False  False   True  False  False   False   \n",
       "889        False     False   False  False  False  False  False  False   False   \n",
       "890        False     False   False  False  False  False  False  False   False   \n",
       "\n",
       "      Fare  Cabin  Embarked  \n",
       "0    False   True     False  \n",
       "1    False  False     False  \n",
       "2    False   True     False  \n",
       "3    False  False     False  \n",
       "4    False   True     False  \n",
       "..     ...    ...       ...  \n",
       "886  False   True     False  \n",
       "887  False  False     False  \n",
       "888  False   True     False  \n",
       "889  False  False     False  \n",
       "890  False   True     False  \n",
       "\n",
       "[891 rows x 12 columns]"
      ]
     },
     "execution_count": 6,
     "metadata": {},
     "output_type": "execute_result"
    }
   ],
   "source": [
    "train.isnull()"
   ]
  },
  {
   "cell_type": "code",
   "execution_count": 7,
   "id": "ee92ec00",
   "metadata": {
    "execution": {
     "iopub.execute_input": "2024-11-05T19:56:47.862571Z",
     "iopub.status.busy": "2024-11-05T19:56:47.862108Z",
     "iopub.status.idle": "2024-11-05T19:56:48.228270Z",
     "shell.execute_reply": "2024-11-05T19:56:48.226281Z"
    },
    "papermill": {
     "duration": 0.389797,
     "end_time": "2024-11-05T19:56:48.233272",
     "exception": false,
     "start_time": "2024-11-05T19:56:47.843475",
     "status": "completed"
    },
    "tags": []
   },
   "outputs": [
    {
     "data": {
      "text/plain": [
       "<Axes: >"
      ]
     },
     "execution_count": 7,
     "metadata": {},
     "output_type": "execute_result"
    },
    {
     "data": {
      "image/png": "[encoded data removed]",
      "text/plain": [
       "<Figure size 640x480 with 1 Axes>"
      ]
     },
     "metadata": {},
     "output_type": "display_data"
    }
   ],
   "source": [
    "sns.heatmap(train.isnull(), yticklabels=False, cbar=False, cmap='viridis')\n"
   ]
  },
  {
   "cell_type": "code",
   "execution_count": 8,
   "id": "cc865f33",
   "metadata": {
    "execution": {
     "iopub.execute_input": "2024-11-05T19:56:48.271666Z",
     "iopub.status.busy": "2024-11-05T19:56:48.271143Z",
     "iopub.status.idle": "2024-11-05T19:56:48.571305Z",
     "shell.execute_reply": "2024-11-05T19:56:48.570058Z"
    },
    "papermill": {
     "duration": 0.32319,
     "end_time": "2024-11-05T19:56:48.574746",
     "exception": false,
     "start_time": "2024-11-05T19:56:48.251556",
     "status": "completed"
    },
    "tags": []
   },
   "outputs": [
    {
     "data": {
      "text/plain": [
       "<Axes: xlabel='Survived', ylabel='count'>"
      ]
     },
     "execution_count": 8,
     "metadata": {},
     "output_type": "execute_result"
    },
    {
     "data": {
      "image/png": "[encoded data removed]",
      "text/plain": [
       "<Figure size 640x480 with 1 Axes>"
      ]
     },
     "metadata": {},
     "output_type": "display_data"
    }
   ],
   "source": [
    "sns.set_style('whitegrid')\n",
    "sns.countplot(x='Survived', data=train)"
   ]
  },
  {
   "cell_type": "code",
   "execution_count": 9,
   "id": "7b323150",
   "metadata": {
    "execution": {
     "iopub.execute_input": "2024-11-05T19:56:48.610938Z",
     "iopub.status.busy": "2024-11-05T19:56:48.610484Z",
     "iopub.status.idle": "2024-11-05T19:56:48.930740Z",
     "shell.execute_reply": "2024-11-05T19:56:48.929373Z"
    },
    "papermill": {
     "duration": 0.341691,
     "end_time": "2024-11-05T19:56:48.933616",
     "exception": false,
     "start_time": "2024-11-05T19:56:48.591925",
     "status": "completed"
    },
    "tags": []
   },
   "outputs": [
    {
     "data": {
      "text/plain": [
       "<Axes: xlabel='Survived', ylabel='count'>"
      ]
     },
     "execution_count": 9,
     "metadata": {},
     "output_type": "execute_result"
    },
    {
     "data": {
      "image/png": "[encoded data removed]",
      "text/plain": [
       "<Figure size 640x480 with 1 Axes>"
      ]
     },
     "metadata": {},
     "output_type": "display_data"
    }
   ],
   "source": [
    "sns.set_style('whitegrid')\n",
    "sns.countplot(x='Survived', hue='Sex', data=train, palette='RdBu_r')"
   ]
  },
  {
   "cell_type": "code",
   "execution_count": 10,
   "id": "416ed619",
   "metadata": {
    "execution": {
     "iopub.execute_input": "2024-11-05T19:56:48.972328Z",
     "iopub.status.busy": "2024-11-05T19:56:48.971278Z",
     "iopub.status.idle": "2024-11-05T19:56:49.374806Z",
     "shell.execute_reply": "2024-11-05T19:56:49.373356Z"
    },
    "papermill": {
     "duration": 0.426549,
     "end_time": "2024-11-05T19:56:49.377827",
     "exception": false,
     "start_time": "2024-11-05T19:56:48.951278",
     "status": "completed"
    },
    "tags": []
   },
   "outputs": [
    {
     "data": {
      "text/plain": [
       "<Axes: xlabel='Survived', ylabel='count'>"
      ]
     },
     "execution_count": 10,
     "metadata": {},
     "output_type": "execute_result"
    },
    {
     "data": {
      "image/png": "[encoded data removed]",
      "text/plain": [
       "<Figure size 640x480 with 1 Axes>"
      ]
     },
     "metadata": {},
     "output_type": "display_data"
    }
   ],
   "source": [
    "sns.set_style('whitegrid')\n",
    "sns.countplot(x='Survived', hue='Pclass', data=train, palette='rainbow')\n"
   ]
  },
  {
   "cell_type": "code",
   "execution_count": 11,
   "id": "398ed0db",
   "metadata": {
    "execution": {
     "iopub.execute_input": "2024-11-05T19:56:49.430989Z",
     "iopub.status.busy": "2024-11-05T19:56:49.429155Z",
     "iopub.status.idle": "2024-11-05T19:56:49.991370Z",
     "shell.execute_reply": "2024-11-05T19:56:49.988320Z"
    },
    "papermill": {
     "duration": 0.596915,
     "end_time": "2024-11-05T19:56:49.994066",
     "exception": true,
     "start_time": "2024-11-05T19:56:49.397151",
     "status": "failed"
    },
    "tags": []
   },
   "outputs": [
    {
     "ename": "NameError",
     "evalue": "name 'df' is not defined",
     "output_type": "error",
     "traceback": [
      "\u001b[0;31m---------------------------------------------------------------------------\u001b[0m",
      "\u001b[0;31mNameError\u001b[0m                                 Traceback (most recent call last)",
      "Cell \u001b[0;32mIn[11], line 2\u001b[0m\n\u001b[1;32m      1\u001b[0m \u001b[38;5;66;03m# Age distribution\u001b[39;00m\n\u001b[0;32m----> 2\u001b[0m sns\u001b[38;5;241m.\u001b[39mhistplot(\u001b[43mdf\u001b[49m[\u001b[38;5;124m'\u001b[39m\u001b[38;5;124mAge\u001b[39m\u001b[38;5;124m'\u001b[39m], kde\u001b[38;5;241m=\u001b[39m\u001b[38;5;28;01mTrue\u001b[39;00m)\n\u001b[1;32m      3\u001b[0m plt\u001b[38;5;241m.\u001b[39mtitle(\u001b[38;5;124m\"\u001b[39m\u001b[38;5;124mAge Distribution\u001b[39m\u001b[38;5;124m\"\u001b[39m)\n\u001b[1;32m      4\u001b[0m plt\u001b[38;5;241m.\u001b[39mshow()\n",
      "\u001b[0;31mNameError\u001b[0m: name 'df' is not defined"
     ]
    }
   ],
   "source": [
    "# Age distribution\n",
    "sns.histplot(df['Age'], kde=True)\n",
    "plt.title(\"Age Distribution\")\n",
    "plt.show()\n",
    "\n",
    "# Age distribution by survival\n",
    "sns.histplot(df, x='Age', hue='Survived', kde=True, element=\"step\", stat=\"density\")\n",
    "plt.title(\"Age Distribution by Survival\")\n",
    "plt.show()"
   ]
  },
  {
   "cell_type": "code",
   "execution_count": null,
   "id": "ebafd1e3",
   "metadata": {
    "execution": {
     "iopub.execute_input": "2024-11-05T18:27:00.610931Z",
     "iopub.status.busy": "2024-11-05T18:27:00.610049Z",
     "iopub.status.idle": "2024-11-05T18:27:00.911089Z",
     "shell.execute_reply": "2024-11-05T18:27:00.909990Z",
     "shell.execute_reply.started": "2024-11-05T18:27:00.610888Z"
    },
    "papermill": {
     "duration": null,
     "end_time": null,
     "exception": null,
     "start_time": null,
     "status": "pending"
    },
    "tags": []
   },
   "outputs": [],
   "source": [
    "sns.countplot(x='SibSp',data=train)"
   ]
  },
  {
   "cell_type": "code",
   "execution_count": null,
   "id": "de13b10e",
   "metadata": {
    "execution": {
     "iopub.execute_input": "2024-11-05T18:31:21.111790Z",
     "iopub.status.busy": "2024-11-05T18:31:21.111336Z",
     "iopub.status.idle": "2024-11-05T18:31:21.505364Z",
     "shell.execute_reply": "2024-11-05T18:31:21.504228Z",
     "shell.execute_reply.started": "2024-11-05T18:31:21.111726Z"
    },
    "papermill": {
     "duration": null,
     "end_time": null,
     "exception": null,
     "start_time": null,
     "status": "pending"
    },
    "tags": []
   },
   "outputs": [],
   "source": [
    "train['Fare'].hist(color='green',bins=40,figsize=(8,4))"
   ]
  },
  {
   "cell_type": "code",
   "execution_count": null,
   "id": "6a6f3df6",
   "metadata": {
    "execution": {
     "iopub.execute_input": "2024-11-05T18:35:22.142174Z",
     "iopub.status.busy": "2024-11-05T18:35:22.140994Z",
     "iopub.status.idle": "2024-11-05T18:35:24.033255Z",
     "shell.execute_reply": "2024-11-05T18:35:24.032159Z",
     "shell.execute_reply.started": "2024-11-05T18:35:22.142123Z"
    },
    "papermill": {
     "duration": null,
     "end_time": null,
     "exception": null,
     "start_time": null,
     "status": "pending"
    },
    "tags": []
   },
   "outputs": [],
   "source": [
    "import cufflinks as cf\n",
    "cf.go_offline()"
   ]
  },
  {
   "cell_type": "code",
   "execution_count": null,
   "id": "0cef3728",
   "metadata": {
    "execution": {
     "iopub.execute_input": "2024-11-05T18:36:49.914298Z",
     "iopub.status.busy": "2024-11-05T18:36:49.912805Z",
     "iopub.status.idle": "2024-11-05T18:36:51.235375Z",
     "shell.execute_reply": "2024-11-05T18:36:51.234309Z",
     "shell.execute_reply.started": "2024-11-05T18:36:49.914248Z"
    },
    "papermill": {
     "duration": null,
     "end_time": null,
     "exception": null,
     "start_time": null,
     "status": "pending"
    },
    "tags": []
   },
   "outputs": [],
   "source": [
    "train['Fare'].iplot(kind='hist',bins=30,color='green')"
   ]
  },
  {
   "cell_type": "markdown",
   "id": "f116e175",
   "metadata": {
    "papermill": {
     "duration": null,
     "end_time": null,
     "exception": null,
     "start_time": null,
     "status": "pending"
    },
    "tags": []
   },
   "source": [
    "**Data Cleaning**"
   ]
  },
  {
   "cell_type": "code",
   "execution_count": null,
   "id": "fdeabde7",
   "metadata": {
    "execution": {
     "iopub.execute_input": "2024-11-05T18:40:04.038185Z",
     "iopub.status.busy": "2024-11-05T18:40:04.037705Z",
     "iopub.status.idle": "2024-11-05T18:40:04.341645Z",
     "shell.execute_reply": "2024-11-05T18:40:04.340623Z",
     "shell.execute_reply.started": "2024-11-05T18:40:04.038142Z"
    },
    "papermill": {
     "duration": null,
     "end_time": null,
     "exception": null,
     "start_time": null,
     "status": "pending"
    },
    "tags": []
   },
   "outputs": [],
   "source": [
    "plt.figure(figsize=(12,7))\n",
    "sns.boxplot(x='Pclass',y='Age',data=train,palette='winter')"
   ]
  },
  {
   "cell_type": "code",
   "execution_count": null,
   "id": "8a41fd71",
   "metadata": {
    "execution": {
     "iopub.execute_input": "2024-11-05T18:52:24.719135Z",
     "iopub.status.busy": "2024-11-05T18:52:24.718088Z",
     "iopub.status.idle": "2024-11-05T18:52:24.725261Z",
     "shell.execute_reply": "2024-11-05T18:52:24.723834Z",
     "shell.execute_reply.started": "2024-11-05T18:52:24.719089Z"
    },
    "papermill": {
     "duration": null,
     "end_time": null,
     "exception": null,
     "start_time": null,
     "status": "pending"
    },
    "tags": []
   },
   "outputs": [],
   "source": [
    "def input_age(cols):\n",
    "    Age = cols[0]\n",
    "    Pclass = cols[1]\n",
    "\n",
    "    if pd.isnull(Age):\n",
    "\n",
    "        if Pclass ==1:\n",
    "            return 37\n",
    "        elif Pclass ==2:\n",
    "            return 29\n",
    "        else:\n",
    "            return 24\n",
    "    else:\n",
    "         return Age"
   ]
  },
  {
   "cell_type": "code",
   "execution_count": null,
   "id": "2ba22714",
   "metadata": {
    "execution": {
     "iopub.execute_input": "2024-11-05T19:07:09.440950Z",
     "iopub.status.busy": "2024-11-05T19:07:09.440539Z",
     "iopub.status.idle": "2024-11-05T19:07:09.479297Z",
     "shell.execute_reply": "2024-11-05T19:07:09.478093Z",
     "shell.execute_reply.started": "2024-11-05T19:07:09.440912Z"
    },
    "papermill": {
     "duration": null,
     "end_time": null,
     "exception": null,
     "start_time": null,
     "status": "pending"
    },
    "tags": []
   },
   "outputs": [],
   "source": [
    "train['Age'] = train[['Age','Pclass']].apply(input_age,axis=1)"
   ]
  },
  {
   "cell_type": "code",
   "execution_count": null,
   "id": "ecff5b10",
   "metadata": {
    "execution": {
     "iopub.execute_input": "2024-11-05T19:27:48.452359Z",
     "iopub.status.busy": "2024-11-05T19:27:48.451854Z",
     "iopub.status.idle": "2024-11-05T19:27:48.814893Z",
     "shell.execute_reply": "2024-11-05T19:27:48.813491Z",
     "shell.execute_reply.started": "2024-11-05T19:27:48.452308Z"
    },
    "papermill": {
     "duration": null,
     "end_time": null,
     "exception": null,
     "start_time": null,
     "status": "pending"
    },
    "tags": []
   },
   "outputs": [],
   "source": [
    "sns.heatmap(train.isnull(),yticklabels=False,cbar=False,cmap='viridis')"
   ]
  },
  {
   "cell_type": "code",
   "execution_count": null,
   "id": "88197c63",
   "metadata": {
    "execution": {
     "iopub.execute_input": "2024-11-05T19:26:19.242481Z",
     "iopub.status.busy": "2024-11-05T19:26:19.242084Z",
     "iopub.status.idle": "2024-11-05T19:26:19.250437Z",
     "shell.execute_reply": "2024-11-05T19:26:19.248785Z",
     "shell.execute_reply.started": "2024-11-05T19:26:19.242447Z"
    },
    "papermill": {
     "duration": null,
     "end_time": null,
     "exception": null,
     "start_time": null,
     "status": "pending"
    },
    "tags": []
   },
   "outputs": [],
   "source": [
    "train.drop('Cabin',axis=1,inplace=True,  errors='ignore')"
   ]
  },
  {
   "cell_type": "code",
   "execution_count": null,
   "id": "66099d9c",
   "metadata": {
    "execution": {
     "iopub.execute_input": "2024-11-05T19:26:22.986463Z",
     "iopub.status.busy": "2024-11-05T19:26:22.986011Z",
     "iopub.status.idle": "2024-11-05T19:26:23.003719Z",
     "shell.execute_reply": "2024-11-05T19:26:23.002433Z",
     "shell.execute_reply.started": "2024-11-05T19:26:22.986419Z"
    },
    "papermill": {
     "duration": null,
     "end_time": null,
     "exception": null,
     "start_time": null,
     "status": "pending"
    },
    "tags": []
   },
   "outputs": [],
   "source": [
    "train.head()"
   ]
  },
  {
   "cell_type": "code",
   "execution_count": null,
   "id": "41b26d63",
   "metadata": {
    "execution": {
     "iopub.execute_input": "2024-11-05T19:27:40.183509Z",
     "iopub.status.busy": "2024-11-05T19:27:40.182557Z",
     "iopub.status.idle": "2024-11-05T19:27:40.191660Z",
     "shell.execute_reply": "2024-11-05T19:27:40.190372Z",
     "shell.execute_reply.started": "2024-11-05T19:27:40.183466Z"
    },
    "papermill": {
     "duration": null,
     "end_time": null,
     "exception": null,
     "start_time": null,
     "status": "pending"
    },
    "tags": []
   },
   "outputs": [],
   "source": [
    "train.dropna(inplace=True)"
   ]
  },
  {
   "cell_type": "markdown",
   "id": "c766cffd",
   "metadata": {
    "papermill": {
     "duration": null,
     "end_time": null,
     "exception": null,
     "start_time": null,
     "status": "pending"
    },
    "tags": []
   },
   "source": [
    "Converting Categorical Features"
   ]
  },
  {
   "cell_type": "code",
   "execution_count": null,
   "id": "a6ce686e",
   "metadata": {
    "execution": {
     "iopub.execute_input": "2024-11-05T19:28:44.935796Z",
     "iopub.status.busy": "2024-11-05T19:28:44.935347Z",
     "iopub.status.idle": "2024-11-05T19:28:44.950440Z",
     "shell.execute_reply": "2024-11-05T19:28:44.949121Z",
     "shell.execute_reply.started": "2024-11-05T19:28:44.935731Z"
    },
    "papermill": {
     "duration": null,
     "end_time": null,
     "exception": null,
     "start_time": null,
     "status": "pending"
    },
    "tags": []
   },
   "outputs": [],
   "source": [
    "train.info()"
   ]
  },
  {
   "cell_type": "code",
   "execution_count": null,
   "id": "d87a5f2c",
   "metadata": {
    "execution": {
     "iopub.execute_input": "2024-11-05T19:30:00.480501Z",
     "iopub.status.busy": "2024-11-05T19:30:00.480087Z",
     "iopub.status.idle": "2024-11-05T19:30:00.493809Z",
     "shell.execute_reply": "2024-11-05T19:30:00.492705Z",
     "shell.execute_reply.started": "2024-11-05T19:30:00.480464Z"
    },
    "papermill": {
     "duration": null,
     "end_time": null,
     "exception": null,
     "start_time": null,
     "status": "pending"
    },
    "tags": []
   },
   "outputs": [],
   "source": [
    "pd.get_dummies(train['Embarked'],drop_first=True).head()"
   ]
  },
  {
   "cell_type": "code",
   "execution_count": null,
   "id": "91446ab9",
   "metadata": {
    "execution": {
     "iopub.execute_input": "2024-11-05T19:32:17.542046Z",
     "iopub.status.busy": "2024-11-05T19:32:17.540782Z",
     "iopub.status.idle": "2024-11-05T19:32:17.550739Z",
     "shell.execute_reply": "2024-11-05T19:32:17.549566Z",
     "shell.execute_reply.started": "2024-11-05T19:32:17.541987Z"
    },
    "papermill": {
     "duration": null,
     "end_time": null,
     "exception": null,
     "start_time": null,
     "status": "pending"
    },
    "tags": []
   },
   "outputs": [],
   "source": [
    "sex = pd.get_dummies(train['Sex'],drop_first=True)\n",
    "embark = pd.get_dummies(train['Embarked'],drop_first=True)"
   ]
  },
  {
   "cell_type": "code",
   "execution_count": null,
   "id": "b7aa3df9",
   "metadata": {
    "execution": {
     "iopub.execute_input": "2024-11-05T17:50:29.994737Z",
     "iopub.status.busy": "2024-11-05T17:50:29.994277Z",
     "iopub.status.idle": "2024-11-05T17:50:30.013428Z",
     "shell.execute_reply": "2024-11-05T17:50:30.012340Z",
     "shell.execute_reply.started": "2024-11-05T17:50:29.994689Z"
    },
    "papermill": {
     "duration": null,
     "end_time": null,
     "exception": null,
     "start_time": null,
     "status": "pending"
    },
    "tags": []
   },
   "outputs": [],
   "source": [
    "train.drop(['Sex','Embarked','Name','Ticket'],axis=1.inplace=True)"
   ]
  },
  {
   "cell_type": "code",
   "execution_count": null,
   "id": "03dbaae6",
   "metadata": {
    "execution": {
     "iopub.execute_input": "2024-11-05T19:34:43.077659Z",
     "iopub.status.busy": "2024-11-05T19:34:43.077248Z",
     "iopub.status.idle": "2024-11-05T19:34:43.093475Z",
     "shell.execute_reply": "2024-11-05T19:34:43.092304Z",
     "shell.execute_reply.started": "2024-11-05T19:34:43.077625Z"
    },
    "papermill": {
     "duration": null,
     "end_time": null,
     "exception": null,
     "start_time": null,
     "status": "pending"
    },
    "tags": []
   },
   "outputs": [],
   "source": [
    "train.head()"
   ]
  },
  {
   "cell_type": "code",
   "execution_count": null,
   "id": "068fa53c",
   "metadata": {
    "execution": {
     "iopub.execute_input": "2024-11-05T19:35:48.752266Z",
     "iopub.status.busy": "2024-11-05T19:35:48.751841Z",
     "iopub.status.idle": "2024-11-05T19:35:48.759920Z",
     "shell.execute_reply": "2024-11-05T19:35:48.758578Z",
     "shell.execute_reply.started": "2024-11-05T19:35:48.752231Z"
    },
    "papermill": {
     "duration": null,
     "end_time": null,
     "exception": null,
     "start_time": null,
     "status": "pending"
    },
    "tags": []
   },
   "outputs": [],
   "source": [
    "train = pd.concat([train,sex,embark],axis=1)"
   ]
  },
  {
   "cell_type": "code",
   "execution_count": null,
   "id": "e524ab43",
   "metadata": {
    "execution": {
     "iopub.execute_input": "2024-11-05T19:36:24.778683Z",
     "iopub.status.busy": "2024-11-05T19:36:24.778258Z",
     "iopub.status.idle": "2024-11-05T19:36:24.798075Z",
     "shell.execute_reply": "2024-11-05T19:36:24.796910Z",
     "shell.execute_reply.started": "2024-11-05T19:36:24.778641Z"
    },
    "papermill": {
     "duration": null,
     "end_time": null,
     "exception": null,
     "start_time": null,
     "status": "pending"
    },
    "tags": []
   },
   "outputs": [],
   "source": [
    "train.head()"
   ]
  },
  {
   "cell_type": "markdown",
   "id": "fe31a8c7",
   "metadata": {
    "papermill": {
     "duration": null,
     "end_time": null,
     "exception": null,
     "start_time": null,
     "status": "pending"
    },
    "tags": []
   },
   "source": [
    "**Train Test split**"
   ]
  },
  {
   "cell_type": "code",
   "execution_count": null,
   "id": "844a501a",
   "metadata": {
    "execution": {
     "iopub.execute_input": "2024-11-05T19:39:07.342102Z",
     "iopub.status.busy": "2024-11-05T19:39:07.340727Z",
     "iopub.status.idle": "2024-11-05T19:39:07.362137Z",
     "shell.execute_reply": "2024-11-05T19:39:07.360653Z",
     "shell.execute_reply.started": "2024-11-05T19:39:07.342053Z"
    },
    "papermill": {
     "duration": null,
     "end_time": null,
     "exception": null,
     "start_time": null,
     "status": "pending"
    },
    "tags": []
   },
   "outputs": [],
   "source": [
    "train.drop('Survived',axis=1).head()"
   ]
  },
  {
   "cell_type": "code",
   "execution_count": null,
   "id": "95b3a136",
   "metadata": {
    "execution": {
     "iopub.execute_input": "2024-11-05T19:40:00.158117Z",
     "iopub.status.busy": "2024-11-05T19:40:00.157553Z",
     "iopub.status.idle": "2024-11-05T19:40:00.168879Z",
     "shell.execute_reply": "2024-11-05T19:40:00.167417Z",
     "shell.execute_reply.started": "2024-11-05T19:40:00.158056Z"
    },
    "papermill": {
     "duration": null,
     "end_time": null,
     "exception": null,
     "start_time": null,
     "status": "pending"
    },
    "tags": []
   },
   "outputs": [],
   "source": [
    "train['Survived'].head"
   ]
  },
  {
   "cell_type": "code",
   "execution_count": null,
   "id": "5f94363b",
   "metadata": {
    "execution": {
     "iopub.execute_input": "2024-11-05T19:47:06.205680Z",
     "iopub.status.busy": "2024-11-05T19:47:06.205217Z",
     "iopub.status.idle": "2024-11-05T19:47:06.211364Z",
     "shell.execute_reply": "2024-11-05T19:47:06.209863Z",
     "shell.execute_reply.started": "2024-11-05T19:47:06.205639Z"
    },
    "papermill": {
     "duration": null,
     "end_time": null,
     "exception": null,
     "start_time": null,
     "status": "pending"
    },
    "tags": []
   },
   "outputs": [],
   "source": [
    "from sklearn.model_selection import train_test_split"
   ]
  },
  {
   "cell_type": "code",
   "execution_count": null,
   "id": "d6b8b7b0",
   "metadata": {
    "execution": {
     "iopub.execute_input": "2024-11-05T19:49:08.502035Z",
     "iopub.status.busy": "2024-11-05T19:49:08.501599Z",
     "iopub.status.idle": "2024-11-05T19:49:08.512984Z",
     "shell.execute_reply": "2024-11-05T19:49:08.511671Z",
     "shell.execute_reply.started": "2024-11-05T19:49:08.501994Z"
    },
    "papermill": {
     "duration": null,
     "end_time": null,
     "exception": null,
     "start_time": null,
     "status": "pending"
    },
    "tags": []
   },
   "outputs": [],
   "source": [
    "x_train, x_test, y_train, y_test = train_test_split(train.drop('Survived',axis=1), train['Survived'],test_size=0.30,random_state=101)"
   ]
  },
  {
   "cell_type": "code",
   "execution_count": null,
   "id": "49e7b97c",
   "metadata": {
    "execution": {
     "iopub.execute_input": "2024-11-05T19:47:13.225164Z",
     "iopub.status.busy": "2024-11-05T19:47:13.224706Z",
     "iopub.status.idle": "2024-11-05T19:47:13.230565Z",
     "shell.execute_reply": "2024-11-05T19:47:13.229079Z",
     "shell.execute_reply.started": "2024-11-05T19:47:13.225123Z"
    },
    "papermill": {
     "duration": null,
     "end_time": null,
     "exception": null,
     "start_time": null,
     "status": "pending"
    },
    "tags": []
   },
   "outputs": [],
   "source": [
    "from sklearn.linear_model import LogisticRegression"
   ]
  },
  {
   "cell_type": "code",
   "execution_count": null,
   "id": "d10b4260",
   "metadata": {
    "execution": {
     "iopub.execute_input": "2024-11-05T19:49:13.859818Z",
     "iopub.status.busy": "2024-11-05T19:49:13.859367Z",
     "iopub.status.idle": "2024-11-05T19:49:14.051924Z",
     "shell.execute_reply": "2024-11-05T19:49:14.050261Z",
     "shell.execute_reply.started": "2024-11-05T19:49:13.859748Z"
    },
    "papermill": {
     "duration": null,
     "end_time": null,
     "exception": null,
     "start_time": null,
     "status": "pending"
    },
    "tags": []
   },
   "outputs": [],
   "source": [
    "logmodel = LogisticRegression()\n",
    "logmodel.fit(x_train,y_train)"
   ]
  },
  {
   "cell_type": "code",
   "execution_count": null,
   "id": "f31a400b",
   "metadata": {
    "execution": {
     "iopub.execute_input": "2024-11-05T19:52:17.301121Z",
     "iopub.status.busy": "2024-11-05T19:52:17.300666Z",
     "iopub.status.idle": "2024-11-05T19:52:17.528447Z",
     "shell.execute_reply": "2024-11-05T19:52:17.526841Z",
     "shell.execute_reply.started": "2024-11-05T19:52:17.301080Z"
    },
    "papermill": {
     "duration": null,
     "end_time": null,
     "exception": null,
     "start_time": null,
     "status": "pending"
    },
    "tags": []
   },
   "outputs": [],
   "source": [
    "predictions = logmodel.predict(x_test)"
   ]
  },
  {
   "cell_type": "code",
   "execution_count": null,
   "id": "308c61a4",
   "metadata": {
    "execution": {
     "iopub.execute_input": "2024-11-05T19:52:31.484412Z",
     "iopub.status.busy": "2024-11-05T19:52:31.483977Z",
     "iopub.status.idle": "2024-11-05T19:52:31.489543Z",
     "shell.execute_reply": "2024-11-05T19:52:31.488384Z",
     "shell.execute_reply.started": "2024-11-05T19:52:31.484374Z"
    },
    "papermill": {
     "duration": null,
     "end_time": null,
     "exception": null,
     "start_time": null,
     "status": "pending"
    },
    "tags": []
   },
   "outputs": [],
   "source": [
    "from sklearn.metrics import confusion_matrix"
   ]
  },
  {
   "cell_type": "code",
   "execution_count": null,
   "id": "c8d25525",
   "metadata": {
    "execution": {
     "iopub.execute_input": "2024-11-05T19:53:29.064231Z",
     "iopub.status.busy": "2024-11-05T19:53:29.063837Z",
     "iopub.status.idle": "2024-11-05T19:53:29.094278Z",
     "shell.execute_reply": "2024-11-05T19:53:29.092433Z",
     "shell.execute_reply.started": "2024-11-05T19:53:29.064195Z"
    },
    "papermill": {
     "duration": null,
     "end_time": null,
     "exception": null,
     "start_time": null,
     "status": "pending"
    },
    "tags": []
   },
   "outputs": [],
   "source": [
    "accuracy = confusion_matrix(y_test,predictions)"
   ]
  },
  {
   "cell_type": "code",
   "execution_count": null,
   "id": "3e052765",
   "metadata": {
    "execution": {
     "iopub.execute_input": "2024-11-05T19:53:22.653319Z",
     "iopub.status.busy": "2024-11-05T19:53:22.652887Z",
     "iopub.status.idle": "2024-11-05T19:53:22.683838Z",
     "shell.execute_reply": "2024-11-05T19:53:22.682013Z",
     "shell.execute_reply.started": "2024-11-05T19:53:22.653279Z"
    },
    "papermill": {
     "duration": null,
     "end_time": null,
     "exception": null,
     "start_time": null,
     "status": "pending"
    },
    "tags": []
   },
   "outputs": [],
   "source": [
    "accuracy"
   ]
  },
  {
   "cell_type": "code",
   "execution_count": null,
   "id": "d31ea824",
   "metadata": {
    "execution": {
     "iopub.execute_input": "2024-11-05T19:54:36.448548Z",
     "iopub.status.busy": "2024-11-05T19:54:36.448177Z",
     "iopub.status.idle": "2024-11-05T19:54:36.453243Z",
     "shell.execute_reply": "2024-11-05T19:54:36.452202Z",
     "shell.execute_reply.started": "2024-11-05T19:54:36.448514Z"
    },
    "papermill": {
     "duration": null,
     "end_time": null,
     "exception": null,
     "start_time": null,
     "status": "pending"
    },
    "tags": []
   },
   "outputs": [],
   "source": [
    "from sklearn.metrics import accuracy_score"
   ]
  },
  {
   "cell_type": "code",
   "execution_count": null,
   "id": "9734391d",
   "metadata": {
    "papermill": {
     "duration": null,
     "end_time": null,
     "exception": null,
     "start_time": null,
     "status": "pending"
    },
    "tags": []
   },
   "outputs": [],
   "source": [
    "accuracy = accuracy_score(y_test,predictions)\n",
    "accuracy"
   ]
  },
  {
   "cell_type": "code",
   "execution_count": null,
   "id": "2d3b4a68",
   "metadata": {
    "papermill": {
     "duration": null,
     "end_time": null,
     "exception": null,
     "start_time": null,
     "status": "pending"
    },
    "tags": []
   },
   "outputs": [],
   "source": [
    "predictions"
   ]
  }
 ],
 "metadata": {
  "kaggle": {
   "accelerator": "none",
   "dataSources": [
    {
     "databundleVersionId": 26502,
     "sourceId": 3136,
     "sourceType": "competition"
    }
   ],
   "dockerImageVersionId": 30786,
   "isGpuEnabled": false,
   "isInternetEnabled": false,
   "language": "python",
   "sourceType": "notebook"
  },
  "kernelspec": {
   "display_name": "Python 3",
   "language": "python",
   "name": "python3"
  },
  "language_info": {
   "codemirror_mode": {
    "name": "ipython",
    "version": 3
   },
   "file_extension": ".py",
   "mimetype": "text/x-python",
   "name": "python",
   "nbconvert_exporter": "python",
   "pygments_lexer": "ipython3",
   "version": "3.10.14"
  },
  "papermill": {
   "default_parameters": {},
   "duration": 10.217979,
   "end_time": "2024-11-05T19:56:50.740269",
   "environment_variables": {},
   "exception": true,
   "input_path": "__notebook__.ipynb",
   "output_path": "__notebook__.ipynb",
   "parameters": {},
   "start_time": "2024-11-05T19:56:40.522290",
   "version": "2.6.0"
  }
 },
 "nbformat": 4,
 "nbformat_minor": 5
}
